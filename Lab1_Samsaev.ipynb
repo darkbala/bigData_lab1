{
 "cells": [
  {
   "cell_type": "code",
   "execution_count": 24,
   "id": "cb2420a2-dc58-41c8-b85a-2c3173f45d4b",
   "metadata": {
    "ExecuteTime": {
     "end_time": "2024-09-19T11:56:51.342263006Z",
     "start_time": "2024-09-19T11:56:51.304314014Z"
    }
   },
   "outputs": [
    {
     "name": "stdout",
     "output_type": "stream",
     "text": [
      "Hello world!\n"
     ]
    }
   ],
   "source": [
    "print(\"Hello Universe!\")"
   ]
  },
  {
   "cell_type": "code",
   "execution_count": 25,
   "id": "bb9041f5-859c-4ce0-a3fd-46e5e91c52ca",
   "metadata": {
    "ExecuteTime": {
     "end_time": "2024-09-19T11:56:51.344988858Z",
     "start_time": "2024-09-19T11:56:51.342483715Z"
    }
   },
   "outputs": [
    {
     "data": {
      "text/plain": [
       "444"
      ]
     },
     "execution_count": 25,
     "metadata": {},
     "output_type": "execute_result"
    }
   ],
   "source": [
    "456 + 654"
   ]
  },
  {
   "cell_type": "code",
   "execution_count": 26,
   "id": "a51b5ab7-c5b7-46fb-9df7-13de2eb5a824",
   "metadata": {
    "ExecuteTime": {
     "end_time": "2024-09-19T11:56:51.357278604Z",
     "start_time": "2024-09-19T11:56:51.345073649Z"
    }
   },
   "outputs": [],
   "source": [
    "a = 20\n",
    "b = 30"
   ]
  },
  {
   "cell_type": "code",
   "execution_count": 27,
   "id": "42cec455-7fea-4365-ae2f-4af824963b09",
   "metadata": {
    "ExecuteTime": {
     "end_time": "2024-09-19T11:56:51.357838178Z",
     "start_time": "2024-09-19T11:56:51.354445057Z"
    }
   },
   "outputs": [],
   "source": [
    "c = a + b\n",
    "l = [5, 6, 7, 8]\n",
    "d = {\"x\": 10, \"y\": 20}"
   ]
  },
  {
   "cell_type": "code",
   "execution_count": 28,
   "id": "a504dc91-11dc-4ef4-8ced-12ecb3a863d8",
   "metadata": {
    "ExecuteTime": {
     "end_time": "2024-09-19T11:56:51.422593056Z",
     "start_time": "2024-09-19T11:56:51.357651894Z"
    }
   },
   "outputs": [
    {
     "name": "stdout",
     "output_type": "stream",
     "text": [
      "24\n",
      "<class 'int'>\n",
      "<class 'list'>\n",
      "<class 'dict'>\n"
     ]
    }
   ],
   "source": [
    "print(c)\n",
    "print(type(c))\n",
    "print(type(l))\n",
    "print(type(d))"
   ]
  },
  {
   "cell_type": "code",
   "execution_count": 29,
   "id": "c56f984e-df1f-4262-bac9-b21adec4c0de",
   "metadata": {
    "ExecuteTime": {
     "end_time": "2024-09-19T11:56:51.423197335Z",
     "start_time": "2024-09-19T11:56:51.368876555Z"
    }
   },
   "outputs": [
    {
     "name": "stdout",
     "output_type": "stream",
     "text": [
      "5.0\n",
      "1024.0\n"
     ]
    }
   ],
   "source": [
    "import math\n",
    "print(math.sqrt(25))\n",
    "print(math.pow(2,10))"
   ]
  },
  {
   "cell_type": "code",
   "execution_count": 30,
   "id": "ce552aaf-b71a-4b65-9506-2fa168d1b04d",
   "metadata": {
    "ExecuteTime": {
     "end_time": "2024-09-19T11:56:51.424758272Z",
     "start_time": "2024-09-19T11:56:51.409048975Z"
    }
   },
   "outputs": [
    {
     "name": "stdout",
     "output_type": "stream",
     "text": [
      "Положительное число\n"
     ]
    }
   ],
   "source": [
    "if c > 0:\n",
    "    print(\"Положительное число\")\n",
    "elif c == 0:\n",
    "    print(\"Ноль\")\n",
    "else:\n",
    "    print(\"Отрицательное число\")"
   ]
  },
  {
   "cell_type": "code",
   "execution_count": 31,
   "id": "e7155a99-f254-47a4-8f9e-db49a93cf408",
   "metadata": {
    "ExecuteTime": {
     "end_time": "2024-09-19T11:56:51.473530833Z",
     "start_time": "2024-09-19T11:56:51.425910563Z"
    }
   },
   "outputs": [
    {
     "name": "stdout",
     "output_type": "stream",
     "text": [
      "1\n",
      "7\n",
      "13\n",
      "19\n",
      "25\n",
      "31\n",
      "37\n",
      "43\n",
      "49\n",
      "55\n",
      "61\n",
      "67\n",
      "73\n",
      "79\n",
      "85\n",
      "91\n",
      "97\n"
     ]
    }
   ],
   "source": [
    "for i in range(1,100,6):\n",
    "    print(i)"
   ]
  },
  {
   "cell_type": "code",
   "execution_count": 32,
   "id": "66f4118a-d1e2-4b27-9dd0-8f337e323888",
   "metadata": {
    "ExecuteTime": {
     "end_time": "2024-09-19T11:56:51.476995360Z",
     "start_time": "2024-09-19T11:56:51.473885878Z"
    }
   },
   "outputs": [
    {
     "name": "stdout",
     "output_type": "stream",
     "text": [
      "1\n",
      "2\n",
      "4\n",
      "8\n",
      "16\n",
      "32\n",
      "64\n",
      "128\n",
      "256\n",
      "512\n"
     ]
    }
   ],
   "source": [
    "# степени двойки до 1000\n",
    "a = 1\n",
    "while (a < 1000):\n",
    "    print(a)\n",
    "    a *= 2"
   ]
  },
  {
   "cell_type": "code",
   "execution_count": 33,
   "id": "a0eead5c-9cdc-4bb6-86d4-6ab09865c691",
   "metadata": {
    "ExecuteTime": {
     "end_time": "2024-09-19T11:56:51.485943332Z",
     "start_time": "2024-09-19T11:56:51.477476595Z"
    }
   },
   "outputs": [
    {
     "name": "stdout",
     "output_type": "stream",
     "text": [
      "6\n"
     ]
    }
   ],
   "source": [
    "def sum3(a,b,c):\n",
    "    return a+b+c\n",
    "print(sum3(1,2,3))"
   ]
  },
  {
   "cell_type": "code",
   "execution_count": 34,
   "id": "58e3d120-493c-4d56-8d5a-521046614eb8",
   "metadata": {
    "ExecuteTime": {
     "end_time": "2024-09-19T11:56:51.488240430Z",
     "start_time": "2024-09-19T11:56:51.486447691Z"
    }
   },
   "outputs": [
    {
     "name": "stdout",
     "output_type": "stream",
     "text": [
      "25\n"
     ]
    }
   ],
   "source": [
    "gyp = lambda x,y: x**2 + y ** 2\n",
    "print(gyp(3,4))"
   ]
  },
  {
   "cell_type": "code",
   "execution_count": 35,
   "id": "543629e6-8475-4d11-b91f-94e3df9e1658",
   "metadata": {
    "ExecuteTime": {
     "end_time": "2024-09-19T11:57:59.709763593Z",
     "start_time": "2024-09-19T11:56:51.488039087Z"
    }
   },
   "outputs": [
    {
     "name": "stdout",
     "output_type": "stream",
     "text": [
      "PING 127.0.0.1 (127.0.0.1) 56(84) bytes of data.\r\n",
      "64 bytes from 127.0.0.1: icmp_seq=1 ttl=65 time=0.041 ms\r\n",
      "64 bytes from 127.0.0.1: icmp_seq=2 ttl=65 time=0.040 ms\r\n",
      "64 bytes from 127.0.0.1: icmp_seq=3 ttl=65 time=0.036 ms\r\n",
      "64 bytes from 127.0.0.1: icmp_seq=4 ttl=65 time=0.036 ms\r\n",
      "64 bytes from 127.0.0.1: icmp_seq=5 ttl=65 time=0.035 ms\r\n",
      "64 bytes from 127.0.0.1: icmp_seq=6 ttl=65 time=0.044 ms\r\n",
      "64 bytes from 127.0.0.1: icmp_seq=7 ttl=65 time=0.059 ms\r\n",
      "64 bytes from 127.0.0.1: icmp_seq=8 ttl=65 time=0.052 ms\r\n",
      "64 bytes from 127.0.0.1: icmp_seq=9 ttl=65 time=0.050 ms\r\n",
      "64 bytes from 127.0.0.1: icmp_seq=10 ttl=65 time=0.038 ms\r\n",
      "64 bytes from 127.0.0.1: icmp_seq=11 ttl=65 time=0.032 ms\r\n",
      "64 bytes from 127.0.0.1: icmp_seq=12 ttl=65 time=0.032 ms\r\n",
      "64 bytes from 127.0.0.1: icmp_seq=13 ttl=65 time=0.039 ms\r\n",
      "64 bytes from 127.0.0.1: icmp_seq=14 ttl=65 time=0.043 ms\r\n",
      "64 bytes from 127.0.0.1: icmp_seq=15 ttl=65 time=0.050 ms\r\n",
      "64 bytes from 127.0.0.1: icmp_seq=16 ttl=65 time=0.055 ms\r\n",
      "64 bytes from 127.0.0.1: icmp_seq=17 ttl=65 time=0.031 ms\r\n",
      "64 bytes from 127.0.0.1: icmp_seq=18 ttl=65 time=0.043 ms\r\n",
      "64 bytes from 127.0.0.1: icmp_seq=19 ttl=65 time=0.040 ms\r\n",
      "64 bytes from 127.0.0.1: icmp_seq=20 ttl=65 time=0.039 ms\r\n",
      "64 bytes from 127.0.0.1: icmp_seq=21 ttl=65 time=0.038 ms\r\n",
      "64 bytes from 127.0.0.1: icmp_seq=22 ttl=65 time=0.044 ms\r\n",
      "64 bytes from 127.0.0.1: icmp_seq=23 ttl=65 time=0.041 ms\r\n",
      "64 bytes from 127.0.0.1: icmp_seq=24 ttl=65 time=0.045 ms\r\n",
      "64 bytes from 127.0.0.1: icmp_seq=25 ttl=65 time=0.043 ms\r\n",
      "64 bytes from 127.0.0.1: icmp_seq=26 ttl=65 time=0.043 ms\r\n",
      "64 bytes from 127.0.0.1: icmp_seq=27 ttl=65 time=0.061 ms\r\n",
      "64 bytes from 127.0.0.1: icmp_seq=28 ttl=65 time=0.032 ms\r\n",
      "64 bytes from 127.0.0.1: icmp_seq=29 ttl=65 time=0.045 ms\r\n",
      "64 bytes from 127.0.0.1: icmp_seq=30 ttl=65 time=0.049 ms\r\n",
      "64 bytes from 127.0.0.1: icmp_seq=31 ttl=65 time=0.038 ms\r\n",
      "64 bytes from 127.0.0.1: icmp_seq=32 ttl=65 time=0.037 ms\r\n",
      "64 bytes from 127.0.0.1: icmp_seq=33 ttl=65 time=0.051 ms\r\n",
      "64 bytes from 127.0.0.1: icmp_seq=34 ttl=65 time=0.059 ms\r\n",
      "64 bytes from 127.0.0.1: icmp_seq=35 ttl=65 time=0.035 ms\r\n",
      "64 bytes from 127.0.0.1: icmp_seq=36 ttl=65 time=0.060 ms\r\n",
      "64 bytes from 127.0.0.1: icmp_seq=37 ttl=65 time=0.035 ms\r\n",
      "64 bytes from 127.0.0.1: icmp_seq=38 ttl=65 time=0.034 ms\r\n",
      "64 bytes from 127.0.0.1: icmp_seq=39 ttl=65 time=0.042 ms\r\n",
      "64 bytes from 127.0.0.1: icmp_seq=40 ttl=65 time=0.032 ms\r\n",
      "64 bytes from 127.0.0.1: icmp_seq=41 ttl=65 time=0.035 ms\r\n",
      "64 bytes from 127.0.0.1: icmp_seq=42 ttl=65 time=0.039 ms\r\n",
      "64 bytes from 127.0.0.1: icmp_seq=43 ttl=65 time=0.039 ms\r\n",
      "64 bytes from 127.0.0.1: icmp_seq=44 ttl=65 time=0.063 ms\r\n",
      "64 bytes from 127.0.0.1: icmp_seq=45 ttl=65 time=0.053 ms\r\n",
      "64 bytes from 127.0.0.1: icmp_seq=46 ttl=65 time=0.070 ms\r\n",
      "64 bytes from 127.0.0.1: icmp_seq=47 ttl=65 time=0.030 ms\r\n",
      "64 bytes from 127.0.0.1: icmp_seq=48 ttl=65 time=0.044 ms\r\n",
      "64 bytes from 127.0.0.1: icmp_seq=49 ttl=65 time=0.032 ms\r\n",
      "64 bytes from 127.0.0.1: icmp_seq=50 ttl=65 time=0.038 ms\r\n",
      "64 bytes from 127.0.0.1: icmp_seq=51 ttl=65 time=0.076 ms\r\n",
      "64 bytes from 127.0.0.1: icmp_seq=52 ttl=65 time=0.045 ms\r\n",
      "64 bytes from 127.0.0.1: icmp_seq=53 ttl=65 time=0.040 ms\r\n",
      "64 bytes from 127.0.0.1: icmp_seq=54 ttl=65 time=0.044 ms\r\n",
      "64 bytes from 127.0.0.1: icmp_seq=55 ttl=65 time=0.038 ms\r\n",
      "64 bytes from 127.0.0.1: icmp_seq=56 ttl=65 time=0.042 ms\r\n",
      "64 bytes from 127.0.0.1: icmp_seq=57 ttl=65 time=0.037 ms\r\n",
      "64 bytes from 127.0.0.1: icmp_seq=58 ttl=65 time=0.032 ms\r\n",
      "64 bytes from 127.0.0.1: icmp_seq=59 ttl=65 time=0.058 ms\r\n",
      "64 bytes from 127.0.0.1: icmp_seq=60 ttl=65 time=0.068 ms\r\n",
      "64 bytes from 127.0.0.1: icmp_seq=61 ttl=65 time=0.039 ms\r\n",
      "64 bytes from 127.0.0.1: icmp_seq=62 ttl=65 time=0.035 ms\r\n",
      "64 bytes from 127.0.0.1: icmp_seq=63 ttl=65 time=0.034 ms\r\n",
      "64 bytes from 127.0.0.1: icmp_seq=64 ttl=65 time=0.050 ms\r\n",
      "64 bytes from 127.0.0.1: icmp_seq=65 ttl=65 time=0.048 ms\r\n",
      "64 bytes from 127.0.0.1: icmp_seq=66 ttl=65 time=0.038 ms\r\n",
      "64 bytes from 127.0.0.1: icmp_seq=67 ttl=65 time=0.039 ms\r\n",
      "^C\r\n",
      "\r\n",
      "--- 127.0.0.1 ping statistics ---\r\n",
      "67 packets transmitted, 67 received, 0% packet loss, time 67586ms\r\n",
      "rtt min/avg/max/mdev = 0.030/0.043/0.076/0.010 ms\r\n"
     ]
    }
   ],
   "source": [
    "encoding=\"utf-8\"\n",
    "!ping 127.0.0.1"
   ]
  },
  {
   "cell_type": "code",
   "execution_count": 36,
   "id": "d3882440-177d-4ab8-ae5a-7276e2f6cbd8",
   "metadata": {
    "ExecuteTime": {
     "end_time": "2024-09-19T11:57:59.721994949Z",
     "start_time": "2024-09-19T11:57:59.713839282Z"
    }
   },
   "outputs": [
    {
     "name": "stdout",
     "output_type": "stream",
     "text": [
      "1.908083533777438e-07\n"
     ]
    }
   ],
   "source": [
    "def fun(x,t):\n",
    "    a = 9*math.pi*t+10*math.cos(x)\n",
    "    b = math.sqrt(t)-math.sin(x)\n",
    "    c = math.e**(-2*t)\n",
    "    print(a/b*c)\n",
    "fun(0,10)"
   ]
  },
  {
   "cell_type": "code",
   "execution_count": 37,
   "id": "98fee1c7-0125-4ebe-a612-0e7e2df769a2",
   "metadata": {
    "ExecuteTime": {
     "end_time": "2024-09-19T11:57:59.723755165Z",
     "start_time": "2024-09-19T11:57:59.718616004Z"
    }
   },
   "outputs": [
    {
     "name": "stdout",
     "output_type": "stream",
     "text": [
      "3\n",
      "7\n"
     ]
    }
   ],
   "source": [
    "def ranging(a,b,c):\n",
    "    if 1 <= a and a <= 10:\n",
    "        print(a)\n",
    "    if 1 <= b and b <= 10:\n",
    "        print(b)\n",
    "    if 1 <= c and c <= 10:\n",
    "        print(c)\n",
    "\n",
    "ranging(3,7,60)"
   ]
  },
  {
   "cell_type": "code",
   "execution_count": 38,
   "id": "f4a1aa44-e7c3-41ca-879c-4c90a93ced89",
   "metadata": {
    "ExecuteTime": {
     "end_time": "2024-09-19T11:57:59.732720942Z",
     "start_time": "2024-09-19T11:57:59.725291005Z"
    }
   },
   "outputs": [
    {
     "name": "stdout",
     "output_type": "stream",
     "text": [
      "3  0  9  8  5  0  0  10  0  2  7  6  2  6  3  10  8  1  1  8  "
     ]
    }
   ],
   "source": [
    "import random\n",
    "for i in range(20):\n",
    "    print(random.randint(0,10), end=\"  \")"
   ]
  },
  {
   "cell_type": "code",
   "execution_count": 39,
   "id": "cfbf9d0a-1b69-4479-af98-8191a1891a9f",
   "metadata": {
    "ExecuteTime": {
     "end_time": "2024-09-19T11:57:59.774977614Z",
     "start_time": "2024-09-19T11:57:59.731565355Z"
    }
   },
   "outputs": [
    {
     "name": "stdout",
     "output_type": "stream",
     "text": [
      "8.209021097669307\n"
     ]
    }
   ],
   "source": [
    "a = 5\n",
    "sum = 0\n",
    "for i in range(1,21):\n",
    "    sum += i/a\n",
    "    a += 2\n",
    "print(sum)"
   ]
  }
 ],
 "metadata": {
  "kernelspec": {
   "display_name": "Python 3 (ipykernel)",
   "language": "python",
   "name": "python3"
  },
  "language_info": {
   "codemirror_mode": {
    "name": "ipython",
    "version": 3
   },
   "file_extension": ".py",
   "mimetype": "text/x-python",
   "name": "python",
   "nbconvert_exporter": "python",
   "pygments_lexer": "ipython3",
   "version": "3.12.5"
  }
 },
 "nbformat": 4,
 "nbformat_minor": 5
}
